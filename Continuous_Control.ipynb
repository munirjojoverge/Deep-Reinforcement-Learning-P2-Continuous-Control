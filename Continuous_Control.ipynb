{
 "cells": [
  {
   "cell_type": "markdown",
   "metadata": {},
   "source": [
    "# Continuous Control\n",
    "\n",
    "---\n",
    "###          Deep Reinforcement Learning Nano-degree - Udacity\n",
    "###                  Created/Modified on: October 31, 2018\n",
    "###                      Author: Munir Jojo-Verge\n",
    "---\n",
    "In this notebook, you will learn how to use the Unity ML-Agents environment for the second project of the [Deep Reinforcement Learning Nanodegree](https://www.udacity.com/course/deep-reinforcement-learning-nanodegree--nd893) program."
   ]
  },
  {
   "cell_type": "markdown",
   "metadata": {},
   "source": [
    "### 1. Start the Environment\n",
    "\n",
    "We begin by importing the necessary packages.  If the code cell below returns an error, please revisit the project instructions to double-check that you have installed [Unity ML-Agents](https://github.com/Unity-Technologies/ml-agents/blob/master/docs/Installation.md) and [NumPy](http://www.numpy.org/)."
   ]
  },
  {
   "cell_type": "code",
   "execution_count": 1,
   "metadata": {
    "collapsed": true
   },
   "outputs": [],
   "source": [
    "from unityagents import UnityEnvironment\n",
    "\n",
    "import numpy as np\n",
    "import random\n",
    "import torch\n",
    "import numpy as np\n",
    "import os.path\n",
    "from collections import deque\n",
    "import matplotlib.pyplot as plt\n",
    "import time\n",
    "import argparse\n",
    "from datetime import datetime\n",
    "\n",
    "%matplotlib inline"
   ]
  },
  {
   "cell_type": "markdown",
   "metadata": {},
   "source": [
    "#### 1.1 Import the python files developed for this project\n",
    "You'll find all the code in the following files.\n",
    "* ddpg_agent.py: In this file we have 2 classes defined:\n",
    "    * Agent class: That implements the DDPG algorithm\n",
    "    * ReplayBuffer: This is a very simple Replay Mememory class to basicaly store and sample the \"Transisions\" (state,action, next_state, reward, done)\n",
    "* memory.py: In this file I developed a more sophisticated Priority Replay Memory Class based on the \"Rainbow\" development.\n",
    "* model.py: Defines the Actor/Critic Neural Networks (with 4 hidden layers and 96x96 filters)\n",
    "* model2.py: Defines the Actor/Critic Neural Networks (with 3 hidden layers and 96x96 filters) - This one ended up being sufficient and even performed better.(Read Report.pdf for more details)"
   ]
  },
  {
   "cell_type": "code",
   "execution_count": 2,
   "metadata": {
    "collapsed": true
   },
   "outputs": [],
   "source": [
    "from ddpg_agent import Agent, ReplayBuffer\n",
    "from memory import ReplayMemory"
   ]
  },
  {
   "cell_type": "markdown",
   "metadata": {},
   "source": [
    "### 2. Define the arguments that we will use to configure/define the Cov Nets and the algoritm's behavior\n",
    "This is a comprehensive list of arguments that will serve as a fundation for both, the single agent and the multiple agent. Also we will use some of this arguments to define how the DDPG algorithm will behave."
   ]
  },
  {
   "cell_type": "code",
   "execution_count": 3,
   "metadata": {
    "collapsed": true
   },
   "outputs": [],
   "source": [
    "class args:\n",
    "    seed = 777                      # Random seed\n",
    "    disable_cuda = False            # Disable CUDA\n",
    "    device = torch.device(\"cuda:0\" if torch.cuda.is_available() else \"cpu\")\n",
    "    #game = '/media/munirjojo-verge/My Passport/01 - Deep Learning Nanodegree/deep-reinforcement-learning/p2_continuous-control/Reacher_Linux_NoVis/Reacher.x86_64' # Udacity environment        \n",
    "    game = '/media/munirjojo-verge/My Passport/01 - Deep Learning Nanodegree/deep-reinforcement-learning/p2_continuous-control/Reacher_Linux_NoVis_Multi/Reacher.x86_64' # Udacity environment        \n",
    "    T_max = int(1e3)                # Number of training steps\n",
    "    max_num_episodes = int(500)     # Max number of episodes      \n",
    "    \n",
    "    hidden_1_size = 96              # Network hidden layer 1 size\n",
    "    hidden_2_size = 96              # Network hidden layer 2 size\n",
    "    hidden_3_size = 96              # Network hidden layer 3 size\n",
    "    \n",
    "    noise_std = 0.05               # Initial standard deviation of noise added to weights\n",
    "    \n",
    "    memory_capacity = int(1e6)      # Experience replay memory capacity\n",
    "    batch_size = 256*1             # Batch size: Number of memories will be sampled to learn \n",
    "    learning_starts_ratio = 1/50   # Number of steps before starting training = memory capacity * this ratio\n",
    "    learning_frequency = 2    # Steps before we sample from the replay Memory again    \n",
    "    \n",
    "    priority_exponent = 0.5         # Prioritised experience replay exponent (originally denoted α)\n",
    "    priority_weight = 0.4           # Initial prioritised experience replay importance sampling weight\n",
    "    \n",
    "    discount = 0.99                 # Discount factor\n",
    "    \n",
    "    target_update = int(30)          # Number of steps after which to update target network (Soft update for Actor & Critic)\n",
    "    tau = 1e-3                      # Soft Update interpolation parameter\n",
    "    \n",
    "    reward_clip = 1                 # Reward clipping (0 to disable)\n",
    "    \n",
    "    lr_Actor = 1e-3                 # Learning rate - Actor\n",
    "    lr_Critic = 1e-3                # Learning rate - Critic\n",
    "    adam_eps = 1e-08                # Adam epsilon (Used for both Networks)\n",
    "    weight_decay = 0                # Critic Optimizer Weight Decay\n",
    "        "
   ]
  },
  {
   "cell_type": "markdown",
   "metadata": {},
   "source": [
    "### 3. Setup the platform where we'll run\n",
    "\n",
    "Using some of the arguments above we can setup some of our platform parameters"
   ]
  },
  {
   "cell_type": "code",
   "execution_count": 4,
   "metadata": {
    "collapsed": true
   },
   "outputs": [],
   "source": [
    "random.seed(args.seed)\n",
    "torch.manual_seed(random.randint(1, 10000))\n",
    "if torch.cuda.is_available() and not args.disable_cuda:\n",
    "  args.device = torch.device('cuda')\n",
    "  torch.cuda.manual_seed(random.randint(1, 10000))\n",
    "  torch.backends.cudnn.enabled = False  # Disable nondeterministic ops (not sure if critical but better safe than sorry)\n",
    "else:\n",
    "  args.device = torch.device('cpu')"
   ]
  },
  {
   "cell_type": "markdown",
   "metadata": {},
   "source": [
    "### 4. Create the Environment - Unity"
   ]
  },
  {
   "cell_type": "code",
   "execution_count": 5,
   "metadata": {
    "scrolled": false
   },
   "outputs": [
    {
     "name": "stderr",
     "output_type": "stream",
     "text": [
      "INFO:unityagents:\n",
      "'Academy' started successfully!\n",
      "Unity Academy name: Academy\n",
      "        Number of Brains: 1\n",
      "        Number of External Brains : 1\n",
      "        Lesson number : 0\n",
      "        Reset Parameters :\n",
      "\t\tgoal_speed -> 1.0\n",
      "\t\tgoal_size -> 5.0\n",
      "Unity brain name: ReacherBrain\n",
      "        Number of Visual Observations (per agent): 0\n",
      "        Vector Observation space type: continuous\n",
      "        Vector Observation space size (per agent): 33\n",
      "        Number of stacked Vector Observation: 1\n",
      "        Vector Action space type: continuous\n",
      "        Vector Action space size (per agent): 4\n",
      "        Vector Action descriptions: , , , \n"
     ]
    }
   ],
   "source": [
    "env = UnityEnvironment(file_name = args.game)"
   ]
  },
  {
   "cell_type": "markdown",
   "metadata": {},
   "source": [
    "Environments contain **_brains_** which are responsible for deciding the actions of their associated agents. Here we check for the first brain available, and set it as the default brain we will be controlling from Python."
   ]
  },
  {
   "cell_type": "code",
   "execution_count": 6,
   "metadata": {
    "collapsed": true
   },
   "outputs": [],
   "source": [
    "# get the default brain\n",
    "brain_name = env.brain_names[0]\n",
    "brain = env.brains[brain_name]"
   ]
  },
  {
   "cell_type": "markdown",
   "metadata": {},
   "source": [
    "### 5. Examine the State and Action Spaces\n",
    "\n",
    "In this environment, a double-jointed arm can move to target locations. A reward of `+0.1` is provided for each step that the agent's hand is in the goal location. Thus, the goal of your agent is to maintain its position at the target location for as many time steps as possible.\n",
    "\n",
    "The observation space consists of `33` variables corresponding to position, rotation, velocity, and angular velocities of the arm.  Each action is a vector with four numbers, corresponding to torque applicable to two joints.  Every entry in the action vector must be a number between `-1` and `1`.\n",
    "\n",
    "Run the code cell below to print some information about the environment."
   ]
  },
  {
   "cell_type": "code",
   "execution_count": 7,
   "metadata": {
    "scrolled": true
   },
   "outputs": [
    {
     "name": "stdout",
     "output_type": "stream",
     "text": [
      "Number of agents: 20\n",
      "Size of each action: 4\n",
      "There are 20 agents. Each observes a state with length: 33\n",
      "The state for the first agent looks like: [  0.00000000e+00  -4.00000000e+00   0.00000000e+00   1.00000000e+00\n",
      "  -0.00000000e+00  -0.00000000e+00  -4.37113883e-08   0.00000000e+00\n",
      "   0.00000000e+00   0.00000000e+00   0.00000000e+00   0.00000000e+00\n",
      "   0.00000000e+00   0.00000000e+00  -1.00000000e+01   0.00000000e+00\n",
      "   1.00000000e+00  -0.00000000e+00  -0.00000000e+00  -4.37113883e-08\n",
      "   0.00000000e+00   0.00000000e+00   0.00000000e+00   0.00000000e+00\n",
      "   0.00000000e+00   0.00000000e+00   5.75471878e+00  -1.00000000e+00\n",
      "   5.55726624e+00   0.00000000e+00   1.00000000e+00   0.00000000e+00\n",
      "  -1.68164849e-01]\n"
     ]
    }
   ],
   "source": [
    "# reset the environment\n",
    "env_info = env.reset(train_mode=True)[brain_name]\n",
    "\n",
    "# number of agents\n",
    "num_agents = len(env_info.agents)\n",
    "print('Number of agents:', num_agents)\n",
    "\n",
    "# size of each action\n",
    "action_size = brain.vector_action_space_size\n",
    "print('Size of each action:', action_size)\n",
    "\n",
    "# examine the state space \n",
    "states = env_info.vector_observations\n",
    "state_size = states.shape[1]\n",
    "print('There are {} agents. Each observes a state with length: {}'.format(states.shape[0], state_size))\n",
    "print('The state for the first agent looks like:', states[0])"
   ]
  },
  {
   "cell_type": "markdown",
   "metadata": {},
   "source": [
    "### 6. Create an instance of our DDPG Agent"
   ]
  },
  {
   "cell_type": "code",
   "execution_count": null,
   "metadata": {
    "collapsed": true
   },
   "outputs": [],
   "source": [
    "# Construct the Agent\n",
    "agent = Agent(args,state_size=state_size, action_size=action_size)\n",
    "\n",
    "# Replay memory: We create the Replay Mem outside the Agent so we can share 1 single Mem with all 20 agents. \n",
    "# I will try the simple replay buffer and a more sophisticated priority replay memory.\n",
    "#memory = ReplayMemory(args)\n",
    "memory = ReplayBuffer(action_size, args.memory_capacity, args.batch_size, args.seed)"
   ]
  },
  {
   "cell_type": "code",
   "execution_count": null,
   "metadata": {
    "scrolled": true
   },
   "outputs": [
    {
     "name": "stdout",
     "output_type": "stream",
     "text": [
      "Episode 53 \tlast 100 avg: 5.28 \tavg score: 18.01 "
     ]
    }
   ],
   "source": [
    "# DDPG\n",
    "\n",
    "def ddpg(agent, memory,StopWhenSolved = True):\n",
    "#     if os.path.isfile('checkpoint_actor.pth'):\n",
    "#         agent.actor_local.load_state_dict(torch.load('checkpoint_actor.pth'))\n",
    "#         agent.critic_local.load_state_dict(torch.load('checkpoint_critic.pth'))\n",
    "    \n",
    "    last100_scores_deque = deque(maxlen=100)\n",
    "    scores_global = []\n",
    "    average_global = []\n",
    "    min_global = []\n",
    "    max_global = []\n",
    "    time_taken = 0\n",
    "    \n",
    "    Start_time = time.time()\n",
    "    for i_episode in range(1, agent.args.max_num_episodes+1):\n",
    "        env_info = env.reset(train_mode=True)[brain_name]      # reset the environment    \n",
    "        states = env_info.vector_observations                  # get the current state (for each agent)\n",
    "        scores = np.zeros(num_agents)                          # initialize the score (for each agent)\n",
    "        agent.reset()\n",
    "        \n",
    "        timestep = 0\n",
    "        dones = np.zeros(num_agents) \n",
    "        while timestep <= agent.args.T_max:                    # while any agents has NOT reached the ball (done)\n",
    "            timestep += 1 \n",
    "            actions = agent.act(states)\n",
    "            env_info = env.step(actions)[brain_name]           # send all actions to the environment\n",
    "            next_states = env_info.vector_observations         # get next state (for each agent)\n",
    "            rewards = env_info.rewards                         # get reward (for each agent)\n",
    "            dones = env_info.local_done                        # see if episode finished    \n",
    "                        \n",
    "            agent.memorize(states, actions, rewards, next_states, dones, memory)\n",
    "            \n",
    "            agent.learn(memory,timestep)\n",
    "                        \n",
    "            states = next_states\n",
    "            scores += rewards            \n",
    "            \n",
    "        episode_avg_score = np.mean(scores)        \n",
    "        last100_scores_deque.append(episode_avg_score)        \n",
    "        last100scores_average = np.mean(last100_scores_deque)\n",
    "        scores_global.append(episode_avg_score)\n",
    "        \n",
    "        average_global.append(last100scores_average)  \n",
    "        min_global.append(np.min(scores))  \n",
    "        max_global.append(np.max(scores)) \n",
    "        \n",
    "        \n",
    "        print('\\rEpisode {} \\tlast 100 avg: {:.2f} \\tavg score: {:.2f} '.format(i_episode, last100scores_average, episode_avg_score), end=\"\")\n",
    "        if i_episode % 100 == 0:\n",
    "            torch.save(agent.actor_local.state_dict(), 'checkpoint_actor.pth')\n",
    "            torch.save(agent.critic_local.state_dict(), 'checkpoint_critic.pth')\n",
    "            print('\\rEpisode {} \\tlast 100 avg: {:.2f}'.format(i_episode, last100scores_average)) \n",
    "        \n",
    "        if  StopWhenSolved and last100scores_average >= 50.0:            \n",
    "            End_time = time.time()\n",
    "            time_taken = (End_time - Start_time)/60\n",
    "            print('\\nSolved in {:d} episodes!\\tlast100scores_average: {:.2f}, time taken(min): {}'.\n",
    "                  format(i_episode, last100scores_average, (End_time - Start_time)/60))\n",
    "            torch.save(agent.actor_local.state_dict(), 'actor_final.pth')\n",
    "            torch.save(agent.critic_local.state_dict(), 'critic_final.pth')            \n",
    "            break\n",
    "     \n",
    "    return scores_global, average_global, max_global, min_global, time_taken\n",
    "\n",
    "scores, averages, maxima, minima, time_taken = ddpg(agent, memory, args.max_num_episodes)\n",
    "\n",
    "fig = plt.figure()\n",
    "ax = fig.add_subplot(111)\n",
    "plt.plot(np.arange(1, len(scores)+1), scores)\n",
    "plt.plot(np.arange(1, len(averages)+1), averages)\n",
    "plt.ylabel('Score')\n",
    "plt.xlabel('Episode #')\n",
    "plt.legend(['Episode Avg', 'Last100 Avg'], loc='upper left')\n",
    "plt.show()"
   ]
  },
  {
   "cell_type": "code",
   "execution_count": null,
   "metadata": {},
   "outputs": [],
   "source": [
    "agent.actor_local.load_state_dict(torch.load('actor_final.pth'))\n",
    "agent.critic_local.load_state_dict(torch.load('critic_final.pth'))\n",
    "\n",
    "env_info = env.reset(train_mode=False)[brain_name]     # reset the environment    \n",
    "states = env_info.vector_observations                  # get the current state (for each agent)\n",
    "scores = np.zeros(num_agents)                          # initialize the score (for each agent)\n",
    "while True:\n",
    "    actions = agent.act(states)\n",
    "    #env.render()\n",
    "    env_info = env.step(actions)[brain_name]           # send all actions to tne environment\n",
    "    next_states = env_info.vector_observations         # get next state (for each agent)\n",
    "    rewards = env_info.rewards                         # get reward (for each agent)\n",
    "    dones = env_info.local_done                        # see if episode finished\n",
    "    scores += env_info.rewards                         # update the score (for each agent)\n",
    "    states = next_states                               # roll over states to next time step\n",
    "    if np.any(dones):                                  # exit loop if episode finished\n",
    "        break\n",
    "print('Total score (averaged over agents) this episode: {}'.format(np.mean(scores)))\n",
    "\n",
    "env.close()"
   ]
  },
  {
   "cell_type": "markdown",
   "metadata": {},
   "source": [
    "### 3. Take Random Actions in the Environment\n",
    "\n",
    "In the next code cell, you will learn how to use the Python API to control the agent and receive feedback from the environment.\n",
    "\n",
    "Once this cell is executed, you will watch the agent's performance, if it selects an action at random with each time step.  A window should pop up that allows you to observe the agent, as it moves through the environment.  \n",
    "\n",
    "Of course, as part of the project, you'll have to change the code so that the agent is able to use its experience to gradually choose better actions when interacting with the environment!"
   ]
  },
  {
   "cell_type": "code",
   "execution_count": null,
   "metadata": {
    "collapsed": true
   },
   "outputs": [],
   "source": []
  },
  {
   "cell_type": "code",
   "execution_count": null,
   "metadata": {},
   "outputs": [],
   "source": [
    "env_info = env.reset(train_mode=False)[brain_name]     # reset the environment    \n",
    "states = env_info.vector_observations                  # get the current state (for each agent)\n",
    "scores = np.zeros(num_agents)                          # initialize the score (for each agent)\n",
    "while True:\n",
    "    actions = np.random.randn(num_agents, action_size) # select an action (for each agent)\n",
    "    actions = np.clip(actions, -1, 1)                  # all actions between -1 and 1\n",
    "    env_info = env.step(actions)[brain_name]           # send all actions to tne environment\n",
    "    next_states = env_info.vector_observations         # get next state (for each agent)\n",
    "    rewards = env_info.rewards                         # get reward (for each agent)\n",
    "    dones = env_info.local_done                        # see if episode finished\n",
    "    scores += env_info.rewards                         # update the score (for each agent)\n",
    "    states = next_states                               # roll over states to next time step\n",
    "    if np.any(dones):                                  # exit loop if episode finished\n",
    "        break\n",
    "print('Total score (averaged over agents) this episode: {}'.format(np.mean(scores)))"
   ]
  },
  {
   "cell_type": "markdown",
   "metadata": {},
   "source": [
    "When finished, you can close the environment."
   ]
  },
  {
   "cell_type": "code",
   "execution_count": null,
   "metadata": {
    "collapsed": true
   },
   "outputs": [],
   "source": [
    "env.close()"
   ]
  },
  {
   "cell_type": "markdown",
   "metadata": {},
   "source": [
    "### 4. It's Your Turn!\n",
    "\n",
    "Now it's your turn to train your own agent to solve the environment!  When training the environment, set `train_mode=True`, so that the line for resetting the environment looks like the following:\n",
    "```python\n",
    "env_info = env.reset(train_mode=True)[brain_name]\n",
    "```"
   ]
  }
 ],
 "metadata": {
  "kernelspec": {
   "display_name": "drlnd",
   "language": "python",
   "name": "drlnd"
  },
  "language_info": {
   "codemirror_mode": {
    "name": "ipython",
    "version": 3
   },
   "file_extension": ".py",
   "mimetype": "text/x-python",
   "name": "python",
   "nbconvert_exporter": "python",
   "pygments_lexer": "ipython3",
   "version": "3.6.3"
  }
 },
 "nbformat": 4,
 "nbformat_minor": 2
}
